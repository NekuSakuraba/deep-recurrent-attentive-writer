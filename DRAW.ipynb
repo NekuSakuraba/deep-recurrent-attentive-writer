{
 "cells": [
  {
   "cell_type": "code",
   "execution_count": 8,
   "metadata": {
    "collapsed": true
   },
   "outputs": [],
   "source": [
    "import numpy as np\n",
    "import tensorflow as tf\n",
    "from tensorflow.contrib.rnn import LSTMCell\n",
    "\n",
    "from tensorflow.examples.tutorials.mnist import input_data"
   ]
  },
  {
   "cell_type": "code",
   "execution_count": 2,
   "metadata": {},
   "outputs": [
    {
     "name": "stdout",
     "output_type": "stream",
     "text": [
      "Extracting /data\\train-images-idx3-ubyte.gz\n",
      "Extracting /data\\train-labels-idx1-ubyte.gz\n",
      "Extracting /data\\t10k-images-idx3-ubyte.gz\n",
      "Extracting /data\\t10k-labels-idx1-ubyte.gz\n"
     ]
    }
   ],
   "source": [
    "mnist = input_data.read_data_sets('/data', one_hot=True)"
   ]
  },
  {
   "cell_type": "code",
   "execution_count": 31,
   "metadata": {
    "collapsed": true
   },
   "outputs": [],
   "source": [
    "def encode(lstm_enc, state, input, reuse=True):\n",
    "    with tf.variable_scope(\"encoder\", reuse=reuse):\n",
    "        return lstm_enc(input, state)\n",
    "\n",
    "def decode(lstm_dec, state, input, reuse=True):\n",
    "    with tf.variable_scope(\"decoder\", reuse=reuse):\n",
    "        return lstm_dec(input, state)\n",
    "\n",
    "def read_no_attn(x, x_hat, h_dec_prev):\n",
    "    return tf.concat([x, x_hat], 1)\n"
   ]
  },
  {
   "cell_type": "code",
   "execution_count": 32,
   "metadata": {},
   "outputs": [],
   "source": [
    "# input size\n",
    "X_size = mnist.train.images.shape[1]\n",
    "\n",
    "# latent dimension\n",
    "z = 100\n",
    "# sequence length\n",
    "T = 10\n",
    "\n",
    "# total time-step\n",
    "glimpses = 64\n",
    "\n",
    "enc_size = 256\n",
    "dec_size = 256\n",
    "\n",
    "# read and write size\n",
    "read  = (2,2)\n",
    "write = (5,5)\n",
    "\n",
    "#\n",
    "batch_size = 32\n",
    "\n",
    "graph = tf.Graph()\n",
    "with graph.as_default():\n",
    "    inputs = tf.placeholder(tf.float32, (batch_size, X_size), 'inputs')\n",
    "    \n",
    "    noise = tf.random_normal((batch_size, z), dtype=tf.float32)\n",
    "    \n",
    "    lstm_encoder = LSTMCell(enc_size)\n",
    "    encoder = lambda st, inp, reuse: encode(lstm_encoder, st, inp, reuse)\n",
    "    enc_state = lstm_encoder.zero_state(batch_size, tf.float32)\n",
    "    \n",
    "    lstm_decoder = LSTMCell(dec_size)\n",
    "    decoder = lambda st, inp, reuse: decode(lstm_decoder, st, inp, reuse)\n",
    "    dec_state = lstm_decoder.zero_state(batch_size, tf.float32)\n",
    "\n",
    "    with tf.variable_scope('l') as scope:\n",
    "        for t in range(T):\n",
    "            pass"
   ]
  }
 ],
 "metadata": {
  "kernelspec": {
   "display_name": "Python 3",
   "language": "python",
   "name": "python3"
  },
  "language_info": {
   "codemirror_mode": {
    "name": "ipython",
    "version": 3
   },
   "file_extension": ".py",
   "mimetype": "text/x-python",
   "name": "python",
   "nbconvert_exporter": "python",
   "pygments_lexer": "ipython3",
   "version": "3.6.3"
  },
  "varInspector": {
   "cols": {
    "lenName": 16,
    "lenType": 16,
    "lenVar": 40
   },
   "kernels_config": {
    "python": {
     "delete_cmd_postfix": "",
     "delete_cmd_prefix": "del ",
     "library": "var_list.py",
     "varRefreshCmd": "print(var_dic_list())"
    },
    "r": {
     "delete_cmd_postfix": ") ",
     "delete_cmd_prefix": "rm(",
     "library": "var_list.r",
     "varRefreshCmd": "cat(var_dic_list()) "
    }
   },
   "types_to_exclude": [
    "module",
    "function",
    "builtin_function_or_method",
    "instance",
    "_Feature"
   ],
   "window_display": false
  }
 },
 "nbformat": 4,
 "nbformat_minor": 2
}
