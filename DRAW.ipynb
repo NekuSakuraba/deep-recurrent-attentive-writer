{
 "cells": [
  {
   "cell_type": "code",
   "execution_count": 1,
   "metadata": {},
   "outputs": [],
   "source": [
    "import sys\n",
    "from datetime import datetime\n",
    "\n",
    "import numpy as np\n",
    "import tensorflow as tf\n",
    "from tensorflow.contrib.rnn import LSTMCell\n",
    "\n",
    "from tensorflow.examples.tutorials.mnist import input_data"
   ]
  },
  {
   "cell_type": "code",
   "execution_count": 2,
   "metadata": {
    "scrolled": true
   },
   "outputs": [
    {
     "name": "stdout",
     "output_type": "stream",
     "text": [
      "Extracting /data\\train-images-idx3-ubyte.gz\n",
      "Extracting /data\\train-labels-idx1-ubyte.gz\n",
      "Extracting /data\\t10k-images-idx3-ubyte.gz\n",
      "Extracting /data\\t10k-labels-idx1-ubyte.gz\n"
     ]
    }
   ],
   "source": [
    "# carregando o dataset mnist\n",
    "mnist = input_data.read_data_sets('/data', one_hot=True)"
   ]
  },
  {
   "cell_type": "code",
   "execution_count": 3,
   "metadata": {},
   "outputs": [
    {
     "name": "stdout",
     "output_type": "stream",
     "text": [
      "Default GPU: /gpu:0\n"
     ]
    }
   ],
   "source": [
    "if not tf.test.is_gpu_available():\n",
    "    print('Não há GPU disponível!', file=sys.stderr)\n",
    "else:\n",
    "    print('Default GPU: {}'.format(tf.test.gpu_device_name()))"
   ]
  },
  {
   "cell_type": "markdown",
   "metadata": {},
   "source": [
    "# Implementando funções auxiliares\n",
    "## O encoder e o decoder\n",
    "Antes de começar a implementar o modelo, vamos definir algumas funções para nos apoiar durante o processo. <br />\n",
    "\n",
    "Vamos começar com os *encoders* e os *decoders* que no meu ponto de vista são os mais fáceis. <br />\n",
    "\n",
    "A implementação de ambas é igual mudando somente o escopo da variável. <br />\n",
    "As funções abaixo é a implementação das seguintes fórmulas.\n",
    "\n",
    "$$\n",
    "h_t^{enc} = RNN^{enc}(h_{t-1}^{enc}, [r_t, h_{t-1}^{dec}])\n",
    "$$\n",
    "\n",
    "$$\n",
    "h_t^{dec} = RNN^{dec}(h_{t-1}^{dec}, z_t)\n",
    "$$\n",
    "\n",
    "Onde $h_{t-1}^{enc}$ e $h_{t-1}^{dec}$ são os *hidden states* do passo anterior"
   ]
  },
  {
   "cell_type": "code",
   "execution_count": 4,
   "metadata": {},
   "outputs": [],
   "source": [
    "def encode(lstm_enc, input, hidden_state):\n",
    "    with tf.variable_scope(\"encoder\"):\n",
    "        return lstm_enc(input, hidden_state)\n",
    "\n",
    "def decode(lstm_dec, input, hidden_state):\n",
    "    with tf.variable_scope(\"decoder\"):\n",
    "        return lstm_dec(input, hidden_state)"
   ]
  },
  {
   "cell_type": "markdown",
   "metadata": {},
   "source": [
    "## O espaço latente z\n",
    "Agora vamos calcular nosso espaço latente $z_t$. <br />\n",
    "Antes de calcular-lo, precisamos da média ($\\mu_t$) e do desvio padrão ($\\sigma_t$) que são extraídos do $h_t^{enc}$ através da aplicação de uma função linear.\n",
    "$$\n",
    "\\mu_t = W(h_t^{enc}) \\\\\n",
    "\\sigma_t = exp(W(h_t^{enc}))\n",
    "$$\n",
    "\n",
    "\n",
    "Por fim, a fórmula que define o espaço latente é...\n",
    "$$\n",
    "z_t = \\mu_t + \\sigma_t \\times \\epsilon\n",
    "$$\n",
    "\n",
    "onde $\\epsilon$ é uma amostra retirada de uma distribuição normal $N(0,I)$."
   ]
  },
  {
   "cell_type": "code",
   "execution_count": 5,
   "metadata": {},
   "outputs": [],
   "source": [
    "def sampleQ(h_enc, z_size, e):\n",
    "    with tf.variable_scope('mu'):\n",
    "        mu = tf.layers.dense(h_enc, z_size)\n",
    "    with tf.variable_scope('sigma'):\n",
    "        log_sigma = tf.layers.dense(h_enc, z_size)\n",
    "        sigma = tf.exp(log_sigma)\n",
    "    z = mu + sigma*e\n",
    "    return z, mu, log_sigma, sigma"
   ]
  },
  {
   "cell_type": "markdown",
   "metadata": {},
   "source": [
    "## Mecanismo de atenção\n",
    "A versão mais simples do mecanismo de leitura/escrita é trabalhar com a imagem toda durate o processo.<br />\n",
    "Porém, assim você retira a habilidade de atenção seletiva.\n",
    "\n",
    "A fórmula do mecanismo de leitura sem atenção é dada por...\n",
    "$$\n",
    "[x, \\hat{x}_t] = read(x, \\hat{x}_t, h_{t-1}^{dec})\n",
    "$$\n",
    "\n",
    "E a do mecanismo de escrita é dada pela aplicação de uma função linear...\n",
    "$$\n",
    "W(h_{t}^{dec}) = write(h_{t}^{dec})\n",
    "$$"
   ]
  },
  {
   "cell_type": "code",
   "execution_count": 6,
   "metadata": {},
   "outputs": [],
   "source": [
    "def read_no_attn(x, x_hat, h_dec_prev):\n",
    "    \"\"\"\n",
    "    parameters:\n",
    "      x: input image\n",
    "      x_hat: image error\n",
    "      h_dec_prev: decoder's previous hidden state\n",
    "    \"\"\"\n",
    "    return tf.concat([x, x_hat], 1)\n",
    "\n",
    "def write_no_attn(h_dec, write_size):\n",
    "    \"\"\"\n",
    "    parameters:\n",
    "      h_dec: decoder's current hidden state\n",
    "      write_size: writing size window\n",
    "    \"\"\"\n",
    "    with tf.variable_scope('writer'):\n",
    "        return tf.layers.dense(h_dec, write_size)"
   ]
  },
  {
   "cell_type": "markdown",
   "metadata": {},
   "source": [
    "Para podermos implementar o mecanismo de atenção, precisamos dizer as coordenadas do filtro que será aplicado na imagem. <br />\n",
    "\n",
    "O centro do filtro $g_X$ e $g_Y$ determinam a localização média do filtro. <br />\n",
    "E a *passada* ou *stride* $\\delta$ controla o *zoom* do filtro.\n",
    "\n",
    "<img src='./imgs/img_01.png' />\n",
    "\n",
    "Felizmente, esses parâmetros são aprendidos dinamicamente durante o processo.\n",
    "\n",
    "\n",
    "A partir uma imagem de altura e largura AxB, o centro do filtro ($g_X$ e $g_Y$), a variância do filtro, o stride e o valor escalar que intensifica o filtro de resposta ($\\gamma$) são determinados através da aplicação de uma função linear em cima do $h^{dec}$\n",
    "\n",
    "\\# 21\n",
    "$$\n",
    "(\\bar{g}_X, \\bar{g}_Y, log\\ \\sigma^2, log\\ \\bar{\\delta}, log\\ \\gamma) = W(h^{dec})\n",
    "$$\n",
    "\n",
    "\\# 22\n",
    "$$\n",
    "g_X = \\frac{A+1}{2}\\big(\\bar{g}_X + 1\\big)\n",
    "$$\n",
    "\n",
    "\\# 23\n",
    "$$\n",
    "g_Y = \\frac{b+1}{2}\\big(\\bar{g}_Y + 1\\big)\n",
    "$$\n",
    "\n",
    "\\# 24\n",
    "$$\n",
    "\\delta = \\frac{max(A, B) - 1}{n-1}\\ \\bar{\\delta}\n",
    "$$"
   ]
  },
  {
   "cell_type": "code",
   "execution_count": 7,
   "metadata": {},
   "outputs": [],
   "source": [
    "def attn_window(scope, h_dec, N):\n",
    "    with tf.variable_scope(scope):\n",
    "#         params = tf.layers.dense(h_dec, N)\n",
    "        params = tf.layers.dense(h_dec, 5)\n",
    "    # equation 21\n",
    "    gx_, gy_, log_sigma2, log_delta, log_gamma = tf.split(params, 5, 1)\n",
    "    # equation 22\n",
    "    gx = .5*(A+1)*(gx_+1)\n",
    "    # equation 23\n",
    "    gy = .5*(B+1)*(gy_+1)\n",
    "    # equation 24\n",
    "    delta = (max(A,B)-1)/(N-1)*tf.exp(log_delta)\n",
    "    sigma2 = tf.exp(log_sigma2)\n",
    "    return filterbank(gx, gy, sigma2, delta, N) + (tf.exp(log_gamma),)"
   ]
  },
  {
   "cell_type": "markdown",
   "metadata": {},
   "source": [
    "fdfdfd\n",
    "\n",
    "\\# 19\n",
    "$$\n",
    "\\mu^i_X = g_X + (i - .5*N - .5)\\ \\delta\n",
    "$$\n",
    "\n",
    "\\# 20\n",
    "$$\n",
    "\\mu^j_X = g_Y + (j - .5*N - .5)\\ \\delta\n",
    "$$\n",
    "\n",
    "\\# 25\n",
    "$$\n",
    "F_X[i,a] = \\frac{1}{Z_X}\\ exp\\bigg(-\\frac{\\big(a-\\mu^i_X\\big)^2}{2\\sigma^2}\\bigg)\n",
    "$$\n",
    "\n",
    "\\# 26\n",
    "$$\n",
    "F_Y[j,a] = \\frac{1}{Z_Y}\\ exp\\bigg(-\\frac{\\big(a-\\mu^j_Y\\big)^2}{2\\sigma^2}\\bigg)\n",
    "$$\n"
   ]
  },
  {
   "cell_type": "code",
   "execution_count": 8,
   "metadata": {},
   "outputs": [],
   "source": [
    "def filterbank(gx, gy, sigma2, delta, N, eps=1e-8):\n",
    "    grid_i = tf.reshape(tf.range(N, dtype=tf.float32), [1, -1])\n",
    "    # equation 19\n",
    "    mu_x = gx + (grid_i - N*.5 - .5) * delta\n",
    "    # equation 20\n",
    "    mu_y = gy + (grid_i - N*.5 - .5) * delta\n",
    "    \n",
    "    a = tf.reshape(tf.range(A, dtype=tf.float32), [1, 1, -1])\n",
    "    b = tf.reshape(tf.range(B, dtype=tf.float32), [1, 1, -1])\n",
    "    \n",
    "    mu_x = tf.reshape(mu_x, [-1, N, 1])\n",
    "    mu_y = tf.reshape(mu_y, [-1, N, 1])\n",
    "    \n",
    "    sigma2 = tf.reshape(sigma2, [-1, 1, 1])\n",
    "    \n",
    "    # equation 25 and 26 without normalization\n",
    "    Fx = tf.exp(-tf.square(a-mu_x)/(2*sigma2))\n",
    "    Fy = tf.exp(-tf.square(b-mu_y)/(2*sigma2))\n",
    "    # normalizing\n",
    "    Fx = Fx/tf.maximum(tf.reduce_sum(Fx, 2, keep_dims=True), eps)\n",
    "    Fy = Fy/tf.maximum(tf.reduce_sum(Fy, 2, keep_dims=True), eps)\n",
    "\n",
    "    return Fx, Fy"
   ]
  },
  {
   "cell_type": "markdown",
   "metadata": {},
   "source": [
    "Para implementar o mecanismo de leitura, nós precisamos retornar um filtro NxN da imagem e da *error image* seguindo a fórmula abaixo utilizando os parâmetros já definidos.\n",
    "\n",
    "\\# 27\n",
    "$$\n",
    "\\gamma \\times [F_YxF_X^T,\\ F_Y\\hat{x}F_X^T] = read(x, \\hat{x}_t, h_{t-1}^{dec})\n",
    "$$\n"
   ]
  },
  {
   "cell_type": "code",
   "execution_count": 9,
   "metadata": {},
   "outputs": [],
   "source": [
    "def read_attn(x, x_hat, h_dec_prev, N):\n",
    "    Fx, Fy, gamma = attn_window('read', h_dec_prev, N)\n",
    "    def filter_img(img, Fx, Fy, gamma, N):\n",
    "        Fxt = tf.transpose(Fx, perm=[0,2,1])\n",
    "        img = tf.reshape(img, [-1, B, A])\n",
    "        glimpse = tf.matmul(Fy, tf.matmul(img, Fxt))\n",
    "        glimpse = tf.reshape(glimpse, [-1, N*N])\n",
    "        return glimpse*tf.reshape(gamma, [-1, 1])\n",
    "    x = filter_img(x, Fx, Fy, gamma, read_n)\n",
    "    x_hat = filter_img(x_hat, Fx, Fy, gamma, read_n)\n",
    "    return tf.concat([x, x_hat], 1)"
   ]
  },
  {
   "cell_type": "markdown",
   "metadata": {},
   "source": [
    "O mecanismo de escrita de forma semelhante, precisamos implementar as duas fórmulas abaixo.\n",
    "\n",
    "\\# 28\n",
    "$$\n",
    "w_t = W(h_t^{dec})\n",
    "$$\n",
    "\n",
    "\\# 29\n",
    "$$\n",
    "\\frac{1}{\\hat{\\gamma}}\\hat{F}_Y^Tw_t\\hat{F}_X = write(h_t^{dec})\n",
    "$$"
   ]
  },
  {
   "cell_type": "code",
   "execution_count": 10,
   "metadata": {},
   "outputs": [],
   "source": [
    "def write_attn(h_dec, write_size):\n",
    "    Fx, Fy, gamma = attn_window('write', h_dec, write_n)\n",
    "    with tf.variable_scope('writeW'):\n",
    "        # equation 28\n",
    "        w = tf.layers.dense(h_dec, write_size)\n",
    "    \n",
    "    N = write_n\n",
    "    w = tf.reshape(w, [batch_size, N, N])\n",
    "    \n",
    "    # working on equation 29\n",
    "    Fyt = tf.transpose(Fy, perm=[0,2,1])\n",
    "    wr = tf.matmul(Fyt, tf.matmul(w, Fx))\n",
    "    wr = tf.reshape(wr, [batch_size, B*A])\n",
    "    return wr*tf.reshape(1./gamma, [-1, 1])"
   ]
  },
  {
   "cell_type": "markdown",
   "metadata": {},
   "source": [
    "# Montando o modelo\n",
    "## Definindo os *hyperparameters*\n",
    "Antes de tudo, precisamos definir os hyperparameters. <br />\n",
    "Por exemplo, como estamos trabalhando com imagens do *mnist*, o tamanho deles é de 28x28."
   ]
  },
  {
   "cell_type": "code",
   "execution_count": 11,
   "metadata": {},
   "outputs": [],
   "source": [
    "# tamanho da imagem\n",
    "A = B = 28\n",
    "img_size = A*B\n",
    "\n",
    "# tamanho do espaço latente\n",
    "z_size = 100\n",
    "\n",
    "# tamanho da sequência\n",
    "# ou a quantidade de passos que RNN irá fazer\n",
    "T = 10\n",
    "\n",
    "# quantidade de unidades nos encoders e decoders\n",
    "enc_size = 256\n",
    "dec_size = 256\n",
    "\n",
    "# Aqui vamos definir se o modelo terá o mecanismo de atenção ou não\n",
    "is_read_attn = is_write_attn = True\n",
    "\n",
    "# Tamanho dos filtros\n",
    "read_n  = 5\n",
    "write_n = 5\n",
    "\n",
    "write_size = write_n*write_n if is_write_attn else img_size\n",
    "\n",
    "# Tamanho do batch e o learning rate\n",
    "batch_size = 100\n",
    "learning_rate = 1e-3\n",
    "\n",
    "# Definindo qual função iremos utilizar,\n",
    "# se é com a atenção ou sem\n",
    "read  = read_attn  if is_read_attn  else read_no_attn\n",
    "write = write_attn if is_write_attn else write_no_attn"
   ]
  },
  {
   "cell_type": "markdown",
   "metadata": {},
   "source": [
    "## Montando draw\n",
    "O modelo draw está sintetizado na imagem abaixo.\n",
    "\n",
    "<img src='./imgs/img_02.png' />"
   ]
  },
  {
   "cell_type": "code",
   "execution_count": 12,
   "metadata": {
    "scrolled": true
   },
   "outputs": [
    {
     "name": "stdout",
     "output_type": "stream",
     "text": [
      "\n",
      "--- TRAINABLE VARIABLES ---\n",
      "<tf.Variable 'draw/read/dense/kernel:0' shape=(256, 5) dtype=float32_ref>\n",
      "<tf.Variable 'draw/read/dense/bias:0' shape=(5,) dtype=float32_ref>\n",
      "<tf.Variable 'draw/encoder/lstm_cell/weights:0' shape=(562, 1024) dtype=float32_ref>\n",
      "<tf.Variable 'draw/encoder/lstm_cell/biases:0' shape=(1024,) dtype=float32_ref>\n",
      "<tf.Variable 'draw/mu/dense/kernel:0' shape=(256, 100) dtype=float32_ref>\n",
      "<tf.Variable 'draw/mu/dense/bias:0' shape=(100,) dtype=float32_ref>\n",
      "<tf.Variable 'draw/sigma/dense/kernel:0' shape=(256, 100) dtype=float32_ref>\n",
      "<tf.Variable 'draw/sigma/dense/bias:0' shape=(100,) dtype=float32_ref>\n",
      "<tf.Variable 'draw/decoder/lstm_cell/weights:0' shape=(356, 1024) dtype=float32_ref>\n",
      "<tf.Variable 'draw/decoder/lstm_cell/biases:0' shape=(1024,) dtype=float32_ref>\n",
      "<tf.Variable 'draw/write/dense/kernel:0' shape=(256, 5) dtype=float32_ref>\n",
      "<tf.Variable 'draw/write/dense/bias:0' shape=(5,) dtype=float32_ref>\n",
      "<tf.Variable 'draw/writeW/dense/kernel:0' shape=(256, 25) dtype=float32_ref>\n",
      "<tf.Variable 'draw/writeW/dense/bias:0' shape=(25,) dtype=float32_ref>\n"
     ]
    }
   ],
   "source": [
    "graph = tf.Graph()\n",
    "with graph.as_default():\n",
    "    x = tf.placeholder(tf.float32, (batch_size, img_size), 'inputs')\n",
    "    \n",
    "    noise = tf.random_normal((batch_size, z_size), dtype=tf.float32)\n",
    "\n",
    "    lstm_enc = LSTMCell(enc_size)\n",
    "    lstm_dec = LSTMCell(dec_size)\n",
    "    \n",
    "    enc_state = lstm_enc.zero_state(batch_size, tf.float32)\n",
    "    dec_state = lstm_dec.zero_state(batch_size, tf.float32)\n",
    "\n",
    "    h_dec_prev = tf.zeros((batch_size, dec_size))\n",
    "\n",
    "    c = [0]*T\n",
    "    mus, logstds, stds = [0]*T, [0]*T, [0]*T\n",
    "    \n",
    "    with tf.variable_scope('draw') as scope:\n",
    "        for t in range(T):\n",
    "            if t > 0:\n",
    "                scope.reuse_variables()\n",
    "            cprev = tf.zeros((batch_size, img_size)) if t==0 else c[t-1]\n",
    "            # x_hat is the error image\n",
    "            x_hat = x - tf.sigmoid(cprev)\n",
    "            # read operation\n",
    "            r = read(x, x_hat, h_dec_prev, read_n)\n",
    "            # encoding\n",
    "            h_enc, enc_state = encode(lstm_enc, tf.concat([r, h_dec_prev],1), enc_state)\n",
    "            # getting latent space\n",
    "            z, mus[t], logstds[t], stds[t] = sampleQ(h_enc, z_size, noise)\n",
    "            # decoding\n",
    "            h_dec, dec_state = decode(lstm_dec, z, dec_state)\n",
    "            # write operation\n",
    "            c[t] = cprev + write(h_dec, write_size)\n",
    "            h_dec_prev = h_dec\n",
    "    \n",
    "    print('\\n--- TRAINABLE VARIABLES ---')\n",
    "    for var in tf.trainable_variables():\n",
    "        print(var)"
   ]
  },
  {
   "cell_type": "markdown",
   "metadata": {},
   "source": [
    "## A função custo (loss function)\n",
    "A função custo é composta pela:\n",
    "* função em relação à imagem reconstruída ($L^x$);\n",
    "* função em relação ao espaço latente ($L^z$).\n",
    "\n",
    "A função $L^x$ é a média da cross entropy utilizando a distribuição de bernoulli.\n",
    "$$\n",
    "L^x = \\frac{1}{N} \\sum_{n=1}^N y_{n} * log(\\hat{y}_n) + (1-y_n) * log(1-\\hat{y}_n)\n",
    "$$\n",
    "\n",
    "A função $L^z$ é a média da divergência kullback leibler do espaço latente.\n",
    "$$\n",
    "L^z = \\frac{1}{2} \\times \\bigg(\\sum_{t=1}^T \\mu_t^2 + \\sigma_t^2 - log\\sigma_t^2 \\bigg) - \\frac{T}{2}\n",
    "$$"
   ]
  },
  {
   "cell_type": "code",
   "execution_count": 13,
   "metadata": {},
   "outputs": [],
   "source": [
    "# LOSS FUNCTION\n",
    "def binary_crossentropy(y, y_hat, eps=1e-8):\n",
    "    return -(y*tf.log(y_hat+eps) + (1.-y)*(tf.log(1.-y_hat+eps)))\n",
    "    \n",
    "with graph.as_default():\n",
    "    x_recons = tf.nn.sigmoid(c[-1])\n",
    "    Lx = tf.reduce_sum(binary_crossentropy(x, x_recons), 1)\n",
    "    Lx = tf.reduce_mean(Lx)\n",
    "    \n",
    "    kl_terms = [0]*T\n",
    "    for t in range(T):\n",
    "        mu2 = tf.square(mus[t])\n",
    "        std2 = tf.square(stds[t])\n",
    "        logstd = logstds[t]\n",
    "        \n",
    "        kl_terms[t] = .5 * tf.reduce_sum(mu2 + std2 - 2*logstd,1) - .5\n",
    "    KL = tf.add_n(kl_terms)\n",
    "    Lz = tf.reduce_mean(KL)\n",
    "    \n",
    "    cost = Lx + Lz"
   ]
  },
  {
   "cell_type": "code",
   "execution_count": 14,
   "metadata": {},
   "outputs": [],
   "source": [
    "# OPTIMIZER\n",
    "with graph.as_default():\n",
    "    opt = tf.train.AdamOptimizer(learning_rate, beta1=.5)\n",
    "    \n",
    "    grads = opt.compute_gradients(cost)\n",
    "    for i, (g,v) in enumerate(grads):\n",
    "        if g is not None:\n",
    "            grads[i] = (tf.clip_by_norm(g,5), v)\n",
    "    train_op = opt.apply_gradients(grads)"
   ]
  },
  {
   "cell_type": "markdown",
   "metadata": {},
   "source": [
    "# Treinando o modelo\n",
    "Agora só precisamos treinar o modelo.\n",
    "Na primeira execução você precisa inicializar as variáveis e comentar o *restore* porque não há modelos salvados no seu computador.\n",
    "```python\n",
    "    sess.run(tf.global_variables_initializer())\n",
    "    #saver.restore(sess, model_path)\n",
    "```\n",
    "Quando você quiser continuar treinando algum modelo já existente, você faz o inverso.\n",
    "```python\n",
    "    #sess.run(tf.global_variables_initializer())\n",
    "    saver.restore(sess, model_path)\n",
    "```"
   ]
  },
  {
   "cell_type": "code",
   "execution_count": 15,
   "metadata": {
    "scrolled": true
   },
   "outputs": [
    {
     "name": "stdout",
     "output_type": "stream",
     "text": [
      "starting: 2018-01-17 18:52:18.808311\n",
      "\n",
      "iter: 999; Lx: 189.58580017089844; Lz: 496.40209960937545\n",
      "iter: 1999; Lx: 169.9189453125; Lz: 497.716369628906256255\n",
      "iter: 2999; Lx: 122.3213119506836; Lz: 498.046142578125525\n",
      "iter: 3999; Lx: 101.8127670288086; Lz: 497.648773193359425\n",
      "iter: 4999; Lx: 82.04388427734375; Lz: 497.520629882812555\n",
      "iter: 5999; Lx: 72.65803527832031; Lz: 496.88061523437565\n",
      "iter: 6999; Lx: 75.87356567382812; Lz: 496.79776000976565\n",
      "iter: 7999; Lx: 67.91886138916016; Lz: 496.48529052734375\n",
      "iter: 8999; Lx: 69.92591094970703; Lz: 496.415039062512525\n",
      "iter: 9999; Lx: 66.81523132324219; Lz: 496.25433349609375\n",
      "\n",
      "Saving the model...\n",
      "finished: 2018-01-17 19:15:47.525379\n",
      "\n"
     ]
    }
   ],
   "source": [
    "print('starting: {}\\n'.format(datetime.now()))\n",
    "train_iters=10000\n",
    "Lxs = [0]*train_iters\n",
    "Lzs = [0]*train_iters\n",
    "\n",
    "model_name = 'draw_attn'\n",
    "model_path = './model/{}.ckpt'.format(model_name)\n",
    "\n",
    "with tf.Session(graph=graph) as sess:\n",
    "    saver = tf.train.Saver()\n",
    "    sess.run(tf.global_variables_initializer())\n",
    "#     saver.restore(sess, model_path)\n",
    "    \n",
    "    try:\n",
    "        for i in range(train_iters):\n",
    "            X_train, _ = mnist.train.next_batch(batch_size)\n",
    "\n",
    "            results = sess.run([Lx, Lz, train_op], feed_dict={x:X_train})\n",
    "            Lxs[i], Lzs[i], _ = results\n",
    "            print('\\riter: {}; Lx: {}; Lz: {}'.format(i, Lxs[i], Lzs[i]), end='')\n",
    "            if (i+1) % 1000 == 0:\n",
    "                print('')\n",
    "    except KeyboardInterrupt:\n",
    "        print('\\nTraining was interrupted!')\n",
    "    finally:\n",
    "        print('\\nSaving the model...')\n",
    "        saver.save(sess, model_path)\n",
    "print('finished: {}\\n'.format(datetime.now()))"
   ]
  },
  {
   "cell_type": "code",
   "execution_count": 16,
   "metadata": {},
   "outputs": [],
   "source": [
    "import matplotlib.pyplot as plt"
   ]
  },
  {
   "cell_type": "code",
   "execution_count": 17,
   "metadata": {
    "scrolled": false
   },
   "outputs": [
    {
     "data": {
      "image/png": "[encoded data removed]",
      "text/plain": [
       "<matplotlib.figure.Figure at 0x12be3002c88>"
      ]
     },
     "metadata": {},
     "output_type": "display_data"
    }
   ],
   "source": [
    "steps = range(train_iters)\n",
    "plt.plot(steps, Lxs)\n",
    "plt.plot(steps, Lzs)\n",
    "plt.show()"
   ]
  },
  {
   "cell_type": "markdown",
   "metadata": {},
   "source": [
    "Nesse ponto vamos verificar como o modelo gera novos dígitos. <br />\n",
    "Para gerá-los, só precisamos executar o nó no gráfo que resulta na matriz canvas."
   ]
  },
  {
   "cell_type": "code",
   "execution_count": 18,
   "metadata": {},
   "outputs": [
    {
     "name": "stdout",
     "output_type": "stream",
     "text": [
      "INFO:tensorflow:Restoring parameters from ./model/draw_attn.ckpt\n"
     ]
    }
   ],
   "source": [
    "# model_name = 'draw_attn'\n",
    "# model_path = './model/{}.ckpt'.format(model_name)\n",
    "\n",
    "with tf.Session(graph=graph) as sess:\n",
    "    saver = tf.train.Saver()\n",
    "    saver.restore(sess, model_path)\n",
    "    \n",
    "    X, _ = mnist.train.next_batch(batch_size)\n",
    "    \n",
    "    canvas = sess.run(c, {x:X})"
   ]
  },
  {
   "cell_type": "code",
   "execution_count": 19,
   "metadata": {},
   "outputs": [],
   "source": [
    "# transformando em numpy array\n",
    "images = np.array(canvas)"
   ]
  },
  {
   "cell_type": "code",
   "execution_count": 20,
   "metadata": {},
   "outputs": [
    {
     "name": "stderr",
     "output_type": "stream",
     "text": [
      "c:\\users\\rodrigo\\documents\\envs\\tensorflow_1_1_0\\lib\\site-packages\\ipykernel_launcher.py:2: RuntimeWarning: overflow encountered in exp\n",
      "  \n"
     ]
    }
   ],
   "source": [
    "# aplicando sigmoid\n",
    "images = 1./(1. + np.exp(-images))"
   ]
  },
  {
   "cell_type": "markdown",
   "metadata": {},
   "source": [
    "# Gerando o gif\n",
    "Para gerar um gif, você precisa instalar o *imagemagick* porque o matplotlib não tem suporte para fazer animação.\n",
    "\n",
    "A velocidade entre os frames você pode controlar mudando a propriedade fps."
   ]
  },
  {
   "cell_type": "code",
   "execution_count": 21,
   "metadata": {},
   "outputs": [],
   "source": [
    "from matplotlib.animation import ArtistAnimation\n",
    "import matplotlib.pyplot as plt"
   ]
  },
  {
   "cell_type": "code",
   "execution_count": 30,
   "metadata": {},
   "outputs": [
    {
     "data": {
      "image/png": "[encoded data removed]",
      "text/plain": [
       "<matplotlib.figure.Figure at 0x12c705c8ef0>"
      ]
     },
     "metadata": {},
     "output_type": "display_data"
    }
   ],
   "source": [
    "N = 3\n",
    "padsize =  1\n",
    "padval  = .5\n",
    "\n",
    "ph = B + 2*padsize\n",
    "pw = A + 2*padsize\n",
    "\n",
    "fig, ax = plt.subplots(1, 1)\n",
    "\n",
    "img = np.ones((N*ph, N*pw))*padval\n",
    "\n",
    "ims = []\n",
    "for t in range(T):\n",
    "    samples = images[t,:N*N,:].reshape((N,N,28,28))\n",
    "    for i in range(N):\n",
    "        for j in range(N):\n",
    "            row_s = i*ph + padsize\n",
    "            row_e = row_s + B\n",
    "\n",
    "            col_s = j*pw + padsize\n",
    "            col_e = col_s + A\n",
    "            img[row_s:row_e, col_s:col_e] = samples[i,j,:,:]\n",
    "        im = ax.imshow(img, cmap='gray')\n",
    "        ims.append([im])\n",
    "\n",
    "ani = ArtistAnimation(fig, ims)\n",
    "ani.save('animation.gif', writer='imagemagick', fps=20)"
   ]
  }
 ],
 "metadata": {
  "kernelspec": {
   "display_name": "Python 3",
   "language": "python",
   "name": "python3"
  },
  "language_info": {
   "codemirror_mode": {
    "name": "ipython",
    "version": 3
   },
   "file_extension": ".py",
   "mimetype": "text/x-python",
   "name": "python",
   "nbconvert_exporter": "python",
   "pygments_lexer": "ipython3",
   "version": "3.5.4"
  },
  "varInspector": {
   "cols": {
    "lenName": 16,
    "lenType": 16,
    "lenVar": 40
   },
   "kernels_config": {
    "python": {
     "delete_cmd_postfix": "",
     "delete_cmd_prefix": "del ",
     "library": "var_list.py",
     "varRefreshCmd": "print(var_dic_list())"
    },
    "r": {
     "delete_cmd_postfix": ") ",
     "delete_cmd_prefix": "rm(",
     "library": "var_list.r",
     "varRefreshCmd": "cat(var_dic_list()) "
    }
   },
   "types_to_exclude": [
    "module",
    "function",
    "builtin_function_or_method",
    "instance",
    "_Feature"
   ],
   "window_display": false
  }
 },
 "nbformat": 4,
 "nbformat_minor": 2
}
