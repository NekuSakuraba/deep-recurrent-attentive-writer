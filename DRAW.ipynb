{
 "cells": [
  {
   "cell_type": "code",
   "execution_count": 1,
   "metadata": {
    "collapsed": true
   },
   "outputs": [],
   "source": [
    "import numpy as np\n",
    "import tensorflow as tf\n",
    "from tensorflow.contrib.rnn import LSTMCell\n",
    "\n",
    "from tensorflow.examples.tutorials.mnist import input_data"
   ]
  },
  {
   "cell_type": "code",
   "execution_count": 2,
   "metadata": {},
   "outputs": [
    {
     "name": "stdout",
     "output_type": "stream",
     "text": [
      "Extracting /data\\train-images-idx3-ubyte.gz\n",
      "Extracting /data\\train-labels-idx1-ubyte.gz\n",
      "Extracting /data\\t10k-images-idx3-ubyte.gz\n",
      "Extracting /data\\t10k-labels-idx1-ubyte.gz\n"
     ]
    }
   ],
   "source": [
    "mnist = input_data.read_data_sets('/data', one_hot=True)"
   ]
  },
  {
   "cell_type": "code",
   "execution_count": 12,
   "metadata": {
    "collapsed": true
   },
   "outputs": [],
   "source": [
    "def encode(lstm_enc, input, state):\n",
    "    global REUSE\n",
    "    with tf.variable_scope(\"encoder\"):\n",
    "        return lstm_enc(input, state)\n",
    "\n",
    "def decode(lstm_dec, input, state):\n",
    "    with tf.variable_scope(\"decoder\"):\n",
    "        return lstm_dec(input, state)\n",
    "\n",
    "def read_no_attn(x, x_hat, h_dec_prev):\n",
    "    return tf.concat([x, x_hat], 1)\n",
    "\n",
    "def read_attn(x, x_hat, h_dec_prev):\n",
    "    pass\n",
    "\n",
    "def write_no_attn(h_dec, img_size):\n",
    "    with tf.variable_scope('writer'):\n",
    "        return linear(h_dec, img_size)\n",
    "\n",
    "def write_attn(h_dec, img_size):\n",
    "    pass"
   ]
  },
  {
   "cell_type": "code",
   "execution_count": 4,
   "metadata": {
    "collapsed": true
   },
   "outputs": [],
   "source": [
    "def linear(X, out_dim):\n",
    "    W = tf.get_variable(\"W\", [X.get_shape()[1], out_dim])\n",
    "    b = tf.get_variable(\"b\", [out_dim], initializer=tf.constant_initializer(.0))\n",
    "    return tf.matmul(X,W)+b\n",
    "\n",
    "def sampleQ(h_enc, z_size, e):\n",
    "    with tf.variable_scope('mu'):\n",
    "        mu = linear(h_enc, z_size)\n",
    "    with tf.variable_scope('sigma'):\n",
    "        logstd = linear(h_enc, z_size)\n",
    "        std = tf.exp(logstd)\n",
    "    z = mu + std*e\n",
    "    return z, mu, logstd, std"
   ]
  },
  {
   "cell_type": "code",
   "execution_count": 106,
   "metadata": {
    "scrolled": true
   },
   "outputs": [
    {
     "name": "stdout",
     "output_type": "stream",
     "text": [
      "enc_state cell:   (100, 256)\n",
      "enc_state hidden: (100, 256)\n",
      "dec_state cell:   (100, 256)\n",
      "dec_state hidden: (100, 256)\n",
      "\n",
      "--- TRAINABLE VARIABLES ---\n",
      "<tf.Variable 'draw/encoder/lstm_cell/kernel:0' shape=(2080, 1024) dtype=float32_ref>\n",
      "<tf.Variable 'draw/encoder/lstm_cell/bias:0' shape=(1024,) dtype=float32_ref>\n",
      "<tf.Variable 'draw/mu/W:0' shape=(256, 100) dtype=float32_ref>\n",
      "<tf.Variable 'draw/mu/b:0' shape=(100,) dtype=float32_ref>\n",
      "<tf.Variable 'draw/sigma/W:0' shape=(256, 100) dtype=float32_ref>\n",
      "<tf.Variable 'draw/sigma/b:0' shape=(100,) dtype=float32_ref>\n",
      "<tf.Variable 'draw/decoder/lstm_cell/kernel:0' shape=(356, 1024) dtype=float32_ref>\n",
      "<tf.Variable 'draw/decoder/lstm_cell/bias:0' shape=(1024,) dtype=float32_ref>\n",
      "<tf.Variable 'draw/writer/W:0' shape=(256, 784) dtype=float32_ref>\n",
      "<tf.Variable 'draw/writer/b:0' shape=(784,) dtype=float32_ref>\n"
     ]
    }
   ],
   "source": [
    "# input size\n",
    "A = B = 28\n",
    "img_size = A*B\n",
    "\n",
    "# latent dimension\n",
    "z_size = 100\n",
    "\n",
    "# sequence length\n",
    "T = 10\n",
    "\n",
    "# total time-step\n",
    "glimpses = 64\n",
    "\n",
    "enc_size = 256\n",
    "dec_size = 256\n",
    "\n",
    "is_read_attn = False\n",
    "is_write_attn = False\n",
    "\n",
    "# read and write size\n",
    "read_size  = 5 if is_read_attn else 2*img_size\n",
    "write_size = 5\n",
    "\n",
    "#\n",
    "batch_size = 100\n",
    "learning_rate = 1e-3\n",
    "\n",
    "read  = read_attn  if is_read_attn  else read_no_attn\n",
    "write = write_attn if is_write_attn else write_no_attn\n",
    "\n",
    "graph = tf.Graph()\n",
    "with graph.as_default():\n",
    "    x = tf.placeholder(tf.float32, (batch_size, img_size), 'inputs')\n",
    "    \n",
    "    noise = tf.random_normal((batch_size, z_size), dtype=tf.float32)\n",
    "\n",
    "    lstm_enc = LSTMCell(enc_size)\n",
    "    lstm_dec = LSTMCell(dec_size)\n",
    "    \n",
    "    h_dec_prev = tf.zeros((batch_size, dec_size))\n",
    "    enc_state = lstm_enc.zero_state(batch_size, tf.float32)\n",
    "    print('enc_state cell:   {}'.format(enc_state[0].get_shape()))\n",
    "    print('enc_state hidden: {}'.format(enc_state[1].get_shape()))\n",
    "    dec_state = lstm_dec.zero_state(batch_size, tf.float32)\n",
    "    print('dec_state cell:   {}'.format(dec_state[0].get_shape()))\n",
    "    print('dec_state hidden: {}'.format(dec_state[1].get_shape()))\n",
    "\n",
    "    c = [0]*T\n",
    "    mus, logstds, stds = [0]*T, [0]*T, [0]*T\n",
    "    \n",
    "    with tf.variable_scope('draw') as scope:\n",
    "        for t in range(T):\n",
    "            if t > 0:\n",
    "                scope.reuse_variables()\n",
    "            cprev = tf.zeros((batch_size, img_size)) if t==0 else c[t-1]\n",
    "            cprev = tf.zeros((batch_size, img_size))\n",
    "            # x_hat is the error image\n",
    "            x_hat = x - tf.sigmoid(cprev)\n",
    "            # read operation\n",
    "            #   without attention shape [batch_size, 1568] (784*2 the img_size)\n",
    "            r = read(x, x_hat, h_dec_prev)\n",
    "            #\n",
    "            h_enc, enc_state = encode(lstm_enc, tf.concat([r, h_dec_prev],1), enc_state)\n",
    "\n",
    "            z, mus[t], logstds[t], stds[t] = sampleQ(h_enc, z_size, noise)\n",
    "            #\n",
    "            h_dec, dec_state = decode(lstm_dec, z, dec_state)\n",
    "            c[t] = cprev + write(h_dec, img_size)\n",
    "            h_dec_prev = h_dec\n",
    "    \n",
    "    print('\\n--- TRAINABLE VARIABLES ---')\n",
    "    for var in tf.trainable_variables():\n",
    "        print(var)"
   ]
  },
  {
   "cell_type": "code",
   "execution_count": 107,
   "metadata": {},
   "outputs": [],
   "source": [
    "# LOSS FUNCTION\n",
    "def binary_crossentropy(y, y_hat, eps=1e-8):\n",
    "    return -(y*tf.log(y_hat+eps) + (1.-y)*(tf.log(1.-y_hat+eps)))\n",
    "    \n",
    "with graph.as_default():\n",
    "    x_recons = tf.nn.sigmoid(c[-1])\n",
    "    Lx = tf.reduce_sum(binary_crossentropy(x, x_recons), 1)\n",
    "    Lx = tf.reduce_mean(Lx)\n",
    "    \n",
    "    kl_terms = [0]*T\n",
    "    for t in range(T):\n",
    "        mu2 = tf.square(mus[t])\n",
    "        std2 = tf.square(stds[t])\n",
    "        logstd = logstds[t]\n",
    "        \n",
    "        kl_terms[t] = .5 * tf.reduce_sum(mu2 + std2 - 2*logstd,1) - .5\n",
    "    KL = tf.add_n(kl_terms)\n",
    "    Lz = tf.reduce_mean(KL)\n",
    "    \n",
    "    cost = Lx + Lz\n",
    "\n",
    "# OPTIMIZER\n",
    "with graph.as_default():\n",
    "    opt = tf.train.AdamOptimizer(learning_rate=learning_rate, beta1=.5)\n",
    "    \n",
    "    grads = opt.compute_gradients(cost)\n",
    "    for i, (g,v) in enumerate(grads):\n",
    "        if g is not None:\n",
    "            grads[i] = (tf.clip_by_norm(g,5), v)\n",
    "    train_op = opt.apply_gradients(grads)\n"
   ]
  },
  {
   "cell_type": "code",
   "execution_count": 146,
   "metadata": {
    "collapsed": true
   },
   "outputs": [],
   "source": [
    "from datetime import datetime"
   ]
  },
  {
   "cell_type": "code",
   "execution_count": 155,
   "metadata": {},
   "outputs": [
    {
     "data": {
      "text/plain": [
       "datetime.timedelta(0)"
      ]
     },
     "execution_count": 155,
     "metadata": {},
     "output_type": "execute_result"
    }
   ],
   "source": [
    "datetime.now()"
   ]
  },
  {
   "cell_type": "code",
   "execution_count": 145,
   "metadata": {},
   "outputs": [
    {
     "data": {
      "text/plain": [
       "1515768892.7053843"
      ]
     },
     "execution_count": 145,
     "metadata": {},
     "output_type": "execute_result"
    }
   ],
   "source": [
    "time()"
   ]
  },
  {
   "cell_type": "code",
   "execution_count": 156,
   "metadata": {
    "scrolled": true
   },
   "outputs": [
    {
     "name": "stdout",
     "output_type": "stream",
     "text": [
      "starting: 2018-01-12 12:56:51.065295\n",
      "\n",
      "INFO:tensorflow:Restoring parameters from /model/draw.ckpt\n",
      "iter: 999; Lx: 88.97925567626953; Lz: 495.649139404296955\n",
      "iter: 1999; Lx: 94.79039001464844; Lz: 495.59851074218755\n",
      "iter: 2999; Lx: 93.17807006835938; Lz: 495.58526611328125\n",
      "iter: 3999; Lx: 93.28194427490234; Lz: 495.54473876953125\n",
      "iter: 4999; Lx: 91.62239074707031; Lz: 495.55920410156255\n",
      "iter: 5999; Lx: 82.89096069335938; Lz: 495.56512451171875\n",
      "iter: 6999; Lx: 86.4042739868164; Lz: 495.560089111328165\n",
      "iter: 7999; Lx: 89.39501953125; Lz: 495.56484985351562815\n",
      "iter: 8999; Lx: 96.29025268554688; Lz: 495.53985595703125\n",
      "iter: 9999; Lx: 85.69342041015625; Lz: 495.57263183593755\n",
      "Saving the model...\n",
      "finished: 2018-01-12 13:41:47.331553\n",
      "\n"
     ]
    }
   ],
   "source": [
    "print('starting: {}\\n'.format(datetime.now()))\n",
    "train_iters=10000\n",
    "\n",
    "with tf.Session(graph=graph) as sess:\n",
    "    saver = tf.train.Saver()\n",
    "#     sess.run(tf.global_variables_initializer())\n",
    "    saver.restore(sess, '/model/draw.ckpt')\n",
    "    \n",
    "    try:\n",
    "        for i in range(train_iters):\n",
    "            X_train, _ = mnist.train.next_batch(batch_size)\n",
    "\n",
    "            Lxs, Lzs, _ = sess.run([Lx, Lz, train_op], feed_dict={x:X_train})\n",
    "            print('\\riter: {}; Lx: {}; Lz: {}'.format(i, Lxs, Lzs), end='')\n",
    "            if (i+1) % 1000 == 0:\n",
    "                print('')\n",
    "    except KeyboardInterrupt:\n",
    "        print('\\nTraining was interrupted!')\n",
    "    finally:\n",
    "        print('Saving the model...')\n",
    "        saver.save(sess, '/model/draw.ckpt')\n",
    "print('finished: {}\\n'.format(datetime.now()))"
   ]
  },
  {
   "cell_type": "code",
   "execution_count": 125,
   "metadata": {},
   "outputs": [
    {
     "name": "stdout",
     "output_type": "stream",
     "text": [
      "INFO:tensorflow:Restoring parameters from /model/draw.ckpt\n"
     ]
    }
   ],
   "source": [
    "with tf.Session(graph=graph) as sess:\n",
    "    saver = tf.train.Saver()\n",
    "    saver.restore(sess, '/model/draw.ckpt')\n",
    "    \n",
    "    X, _ = mnist.train.next_batch(batch_size)\n",
    "    \n",
    "    canvas = sess.run(c, {x:X})"
   ]
  },
  {
   "cell_type": "code",
   "execution_count": 126,
   "metadata": {
    "collapsed": true
   },
   "outputs": [],
   "source": [
    "images = np.array(canvas)"
   ]
  },
  {
   "cell_type": "code",
   "execution_count": 33,
   "metadata": {},
   "outputs": [
    {
     "data": {
      "text/plain": [
       "(10, 32, 784)"
      ]
     },
     "execution_count": 33,
     "metadata": {},
     "output_type": "execute_result"
    }
   ],
   "source": [
    "images.shape"
   ]
  },
  {
   "cell_type": "code",
   "execution_count": 35,
   "metadata": {},
   "outputs": [
    {
     "data": {
      "text/plain": [
       "(10, 784)"
      ]
     },
     "execution_count": 35,
     "metadata": {},
     "output_type": "execute_result"
    }
   ],
   "source": [
    "images[:,0].shape"
   ]
  },
  {
   "cell_type": "code",
   "execution_count": 110,
   "metadata": {
    "collapsed": true
   },
   "outputs": [],
   "source": [
    "from PIL import Image\n",
    "import matplotlib.pyplot as plt"
   ]
  },
  {
   "cell_type": "code",
   "execution_count": 137,
   "metadata": {},
   "outputs": [
    {
     "data": {
      "image/png": "[encoded data removed]",
      "text/plain": [
       "<matplotlib.figure.Figure at 0x2652da040f0>"
      ]
     },
     "metadata": {},
     "output_type": "display_data"
    }
   ],
   "source": [
    "im = images[:,0][9]\n",
    "im = im.reshape(-1, 28)\n",
    "plt.imshow(im, cmap='gray')\n",
    "plt.show()"
   ]
  }
 ],
 "metadata": {
  "kernelspec": {
   "display_name": "Python 3",
   "language": "python",
   "name": "python3"
  },
  "language_info": {
   "codemirror_mode": {
    "name": "ipython",
    "version": 3
   },
   "file_extension": ".py",
   "mimetype": "text/x-python",
   "name": "python",
   "nbconvert_exporter": "python",
   "pygments_lexer": "ipython3",
   "version": "3.6.3"
  },
  "varInspector": {
   "cols": {
    "lenName": 16,
    "lenType": 16,
    "lenVar": 40
   },
   "kernels_config": {
    "python": {
     "delete_cmd_postfix": "",
     "delete_cmd_prefix": "del ",
     "library": "var_list.py",
     "varRefreshCmd": "print(var_dic_list())"
    },
    "r": {
     "delete_cmd_postfix": ") ",
     "delete_cmd_prefix": "rm(",
     "library": "var_list.r",
     "varRefreshCmd": "cat(var_dic_list()) "
    }
   },
   "types_to_exclude": [
    "module",
    "function",
    "builtin_function_or_method",
    "instance",
    "_Feature"
   ],
   "window_display": false
  }
 },
 "nbformat": 4,
 "nbformat_minor": 2
}
