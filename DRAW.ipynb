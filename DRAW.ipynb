{
 "cells": [
  {
   "cell_type": "code",
   "execution_count": 1,
   "metadata": {},
   "outputs": [],
   "source": [
    "import numpy as np\n",
    "import tensorflow as tf\n",
    "from tensorflow.contrib.rnn import LSTMCell\n",
    "\n",
    "from tensorflow.examples.tutorials.mnist import input_data"
   ]
  },
  {
   "cell_type": "code",
   "execution_count": null,
   "metadata": {},
   "outputs": [],
   "source": [
    "mnist = input_data.read_data_sets('/data', one_hot=True)"
   ]
  },
  {
   "cell_type": "code",
   "execution_count": null,
   "metadata": {},
   "outputs": [],
   "source": [
    "def encode(lstm_enc, input, state):\n",
    "    global REUSE\n",
    "    with tf.variable_scope(\"encoder\", reuse=REUSE):\n",
    "        return lstm_enc(input, state)\n",
    "\n",
    "def decode(lstm_dec, input, state):\n",
    "    with tf.variable_scope(\"decoder\"):\n",
    "        return lstm_dec(input, state)\n",
    "\n",
    "def read_no_attn(x, x_hat, h_dec_prev):\n",
    "    return tf.concat([x, x_hat], 1)\n",
    "\n",
    "def read_attn(x, x_hat, h_dec_prev):\n",
    "    pass"
   ]
  },
  {
   "cell_type": "code",
   "execution_count": null,
   "metadata": {},
   "outputs": [],
   "source": [
    "def shape(name, tensor):\n",
    "    print('{}: {}'.format(name, tensor))"
   ]
  },
  {
   "cell_type": "code",
   "execution_count": 17,
   "metadata": {},
   "outputs": [],
   "source": [
    "def linear(X, out_dim):\n",
    "    W = tf.get_variable(\"W\", [X.get_shape()[1], out_dim])\n",
    "    b = tf.get_variable(\"b\", [out_dim], initializer=tf.constant_initializer(.0))\n",
    "    return tf.matmul(X,W)+b\n",
    "\n",
    "def sampleQ(h_enc, z_size, e):\n",
    "    with tf.variable_scope('mu'):\n",
    "        mu = linear(h_enc, z_size)\n",
    "    with tf.variable_scope('sigma'):\n",
    "        logstd = linear(h_enc, z_size)\n",
    "        std = tf.exp(logstd)\n",
    "    z = mu + std*e\n",
    "    return z, mu, logstd, std"
   ]
  },
  {
   "cell_type": "code",
   "execution_count": 18,
   "metadata": {
    "scrolled": false
   },
   "outputs": [
    {
     "name": "stdout",
     "output_type": "stream",
     "text": [
      "enc_state cell:   (32, 256)\n",
      "enc_state hidden: (32, 256)\n",
      "\n",
      "--- TRAINABLE VARIABLES ---\n",
      "<tf.Variable 'draw/encoder/lstm_cell/weights:0' shape=(2080, 1024) dtype=float32_ref>\n",
      "<tf.Variable 'draw/encoder/lstm_cell/biases:0' shape=(1024,) dtype=float32_ref>\n",
      "<tf.Variable 'draw/mu/W:0' shape=(256, 100) dtype=float32_ref>\n",
      "<tf.Variable 'draw/mu/b:0' shape=(100,) dtype=float32_ref>\n",
      "<tf.Variable 'draw/sigma/W:0' shape=(256, 100) dtype=float32_ref>\n",
      "<tf.Variable 'draw/sigma/b:0' shape=(100,) dtype=float32_ref>\n"
     ]
    }
   ],
   "source": [
    "# input size\n",
    "A = B = 28\n",
    "img_size = A*B\n",
    "\n",
    "# latent dimension\n",
    "z_size = 100\n",
    "# sequence length\n",
    "T = 10\n",
    "\n",
    "# total time-step\n",
    "glimpses = 64\n",
    "\n",
    "enc_size = 256\n",
    "dec_size = 256\n",
    "\n",
    "is_read_attn = False\n",
    "\n",
    "# read and write size\n",
    "read_size  = 5 if is_read_attn else 2*img_size\n",
    "write_size = 5\n",
    "\n",
    "#\n",
    "batch_size = 32\n",
    "\n",
    "if is_read_attn:\n",
    "    read = read_attn\n",
    "else:\n",
    "    read = read_no_attn\n",
    "\n",
    "graph = tf.Graph()\n",
    "with graph.as_default():\n",
    "    x = tf.placeholder(tf.float32, (batch_size, img_size), 'inputs')\n",
    "    \n",
    "    noise = tf.random_normal((batch_size, z_size), dtype=tf.float32)\n",
    "\n",
    "    lstm_enc = LSTMCell(enc_size)\n",
    "    lstm_dec = LSTMCell(dec_size)\n",
    "    \n",
    "    h_dec_prev = tf.zeros((batch_size, dec_size))\n",
    "    enc_state = lstm_enc.zero_state(batch_size, tf.float32)\n",
    "    print('enc_state cell:   {}'.format(enc_state[0].get_shape()))\n",
    "    print('enc_state hidden: {}'.format(enc_state[1].get_shape()))\n",
    "    dec_state = lstm_dec.zero_state(batch_size, tf.float32)\n",
    "\n",
    "    c = [0]*T\n",
    "    mu, logstd, std = [0]*T, [0]*T, [0]*T\n",
    "    \n",
    "    with tf.variable_scope('draw') as scope:\n",
    "        for t in range(T):\n",
    "            if t > 0:\n",
    "                scope.reuse_variables()\n",
    "            cprev = tf.zeros((batch_size, img_size)) if t==0 else c[t-1]\n",
    "            cprev = tf.zeros((batch_size, img_size))\n",
    "            # x_hat is the error image\n",
    "            x_hat = x - tf.sigmoid(cprev)\n",
    "            # read operation\n",
    "            #   without attention shape [batch_size, 1568] (784*2 the img_size)\n",
    "            r = read(x, x_hat, h_dec_prev)\n",
    "            #\n",
    "            h_enc, enc_state = encode(lstm_enc, tf.concat([r, h_dec_prev],1), enc_state)\n",
    "\n",
    "            z, mu[t], logstd[t], std[t] = sampleQ(h_enc, z_size, noise)\n",
    "    \n",
    "    print('\\n--- TRAINABLE VARIABLES ---')\n",
    "    for var in tf.trainable_variables():\n",
    "        print(var)"
   ]
  }
 ],
 "metadata": {
  "kernelspec": {
   "display_name": "Python 3",
   "language": "python",
   "name": "python3"
  },
  "language_info": {
   "codemirror_mode": {
    "name": "ipython",
    "version": 3
   },
   "file_extension": ".py",
   "mimetype": "text/x-python",
   "name": "python",
   "nbconvert_exporter": "python",
   "pygments_lexer": "ipython3",
   "version": "3.5.4"
  },
  "varInspector": {
   "cols": {
    "lenName": 16,
    "lenType": 16,
    "lenVar": 40
   },
   "kernels_config": {
    "python": {
     "delete_cmd_postfix": "",
     "delete_cmd_prefix": "del ",
     "library": "var_list.py",
     "varRefreshCmd": "print(var_dic_list())"
    },
    "r": {
     "delete_cmd_postfix": ") ",
     "delete_cmd_prefix": "rm(",
     "library": "var_list.r",
     "varRefreshCmd": "cat(var_dic_list()) "
    }
   },
   "types_to_exclude": [
    "module",
    "function",
    "builtin_function_or_method",
    "instance",
    "_Feature"
   ],
   "window_display": false
  }
 },
 "nbformat": 4,
 "nbformat_minor": 2
}
